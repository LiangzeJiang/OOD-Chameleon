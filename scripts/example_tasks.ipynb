{
 "cells": [
  {
   "cell_type": "code",
   "execution_count": null,
   "id": "4635afd2",
   "metadata": {},
   "outputs": [],
   "source": [
    "import os\n",
    "import random\n",
    "import pandas as pd\n",
    "import matplotlib.pyplot as plt\n",
    "import matplotlib.image as mpimg"
   ]
  },
  {
   "cell_type": "code",
   "execution_count": null,
   "id": "1aa294e2",
   "metadata": {},
   "outputs": [],
   "source": [
    "task_path = \"YOUR_PATH_TO_TASKS\"\n",
    "data_path = \"YOUR_PATH_TO_DATASET\"\n",
    "\n",
    "data_name = \"CelebA\"\n",
    "task_y = 8\n",
    "task_a = 20\n",
    "task_y_name = \"Hair color\"\n",
    "task_a_name = \"Gender\"\n",
    "data_size = 1000\n",
    "sc = 0.82  # spurious correlation\n",
    "ci = 0.41  # label shifts\n",
    "ai = 0.33  # covariate shifts\n",
    "\n",
    "task_path = os.path.join(task_path, data_name.lower(), f\"tasks_y{task_y}_a{task_a}\", f\"task_{data_size}_sc{sc:.2f}_ci{ci:.2f}_ai{ai:.2f}\")"
   ]
  },
  {
   "cell_type": "code",
   "execution_count": null,
   "id": "b71314e8",
   "metadata": {},
   "outputs": [],
   "source": [
    "metadata = pd.read_csv(os.path.join(task_path, \"metadata.csv\"))"
   ]
  },
  {
   "cell_type": "code",
   "execution_count": null,
   "id": "7d6f9c84",
   "metadata": {},
   "outputs": [],
   "source": [
    "# subsample metadata\n",
    "num_samples = 500\n",
    "sampled_metadata = metadata.sample(n=num_samples, random_state=42)\n",
    "sampled_metadata = sampled_metadata[[\"filename\", \"y\", \"a\"]]"
   ]
  },
  {
   "cell_type": "code",
   "execution_count": null,
   "id": "a7949791",
   "metadata": {},
   "outputs": [],
   "source": [
    "# Create figure and axes\n",
    "fig, ax = plt.subplots(figsize=(6, 6))\n",
    "ax.set_xlim(0, 2)\n",
    "ax.set_ylim(0, 2)\n",
    "ax.axis('off')\n",
    "ax.set_title(f\"Data size: {num_samples}\\nSpurious correlation: {sc}, label shift: {ci}, covariate shift: {ai}\", fontsize=13)\n",
    "\n",
    "# Number of images per group\n",
    "n_per_group = 8\n",
    "\n",
    "# Define group to plot coordinates mapping\n",
    "group_coords = {\n",
    "    (0, 0): (0, 1),  # Top-left\n",
    "    (0, 1): (1, 1),  # Top-right\n",
    "    (1, 0): (0, 0),  # Bottom-left\n",
    "    (1, 1): (1, 0),  # Bottom-right\n",
    "}\n",
    "\n",
    "# Plot images in each group\n",
    "for (y_val, a_val), (x_base, y_base) in group_coords.items():\n",
    "    subset = sampled_metadata[(sampled_metadata['y'] == y_val) & (sampled_metadata['a'] == a_val)].sample(n=min(n_per_group, len(sampled_metadata)), random_state=1)\n",
    "\n",
    "    for _, row in subset.iterrows():\n",
    "        filename = row['filename']\n",
    "        img_path = os.path.join(data_path, filename)\n",
    "        try:\n",
    "            img = mpimg.imread(img_path)\n",
    "            imagebox = ax.inset_axes([\n",
    "                x_base + random.uniform(0.1, 0.9) * 0.9,  # x\n",
    "                y_base + random.uniform(0.1, 0.9) * 0.9,  # y\n",
    "                0.20, 0.20                                 # width, height\n",
    "            ], transform=ax.transData)\n",
    "            imagebox.imshow(img)\n",
    "            imagebox.axis('off')\n",
    "        except FileNotFoundError:\n",
    "            print(f\"Missing: {row['filename']}\")\n",
    "\n",
    "# Add image counts per quadrant\n",
    "for (y_val, a_val), (x_base, y_base) in group_coords.items():\n",
    "    count = len(sampled_metadata[(sampled_metadata['y'] == y_val) & (sampled_metadata['a'] == a_val)])\n",
    "    ax.text(\n",
    "        x_base + 0.05, y_base + 0.05,\n",
    "        f\"count: {count}\",\n",
    "        fontsize=12,\n",
    "        color='darkred'\n",
    "    )\n",
    "\n",
    "# Draw vertical and horizontal divider lines\n",
    "ax.axvline(x=1, color='black', linewidth=2, linestyle='--')\n",
    "ax.axhline(y=1, color='black', linewidth=2, linestyle='--')\n",
    "\n",
    "fig.text(\n",
    "    0.5,           # x-position (0 = far left, 1 = far right)\n",
    "    0.0,          # y-position (closer to 0 is near bottom)\n",
    "    f\"{task_y_name} v.s. {task_a_name}\",\n",
    "    ha='center',   # horizontal alignment\n",
    "    fontsize=11\n",
    ")\n",
    "\n",
    "plt.tight_layout()\n",
    "\n",
    "# save as high-resolution image in current directory\n",
    "plt.savefig(\"../assets/task1.png\", dpi=300, bbox_inches='tight')"
   ]
  },
  {
   "cell_type": "code",
   "execution_count": null,
   "id": "da979343",
   "metadata": {},
   "outputs": [],
   "source": []
  },
  {
   "cell_type": "code",
   "execution_count": null,
   "id": "e220d96a",
   "metadata": {},
   "outputs": [],
   "source": []
  }
 ],
 "metadata": {
  "kernelspec": {
   "display_name": "div_backup",
   "language": "python",
   "name": "python3"
  },
  "language_info": {
   "codemirror_mode": {
    "name": "ipython",
    "version": 3
   },
   "file_extension": ".py",
   "mimetype": "text/x-python",
   "name": "python",
   "nbconvert_exporter": "python",
   "pygments_lexer": "ipython3",
   "version": "3.9.18"
  }
 },
 "nbformat": 4,
 "nbformat_minor": 5
}
